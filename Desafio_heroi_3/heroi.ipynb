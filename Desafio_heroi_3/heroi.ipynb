{
 "cells": [
  {
   "cell_type": "code",
   "execution_count": 7,
   "metadata": {},
   "outputs": [
    {
     "name": "stdout",
     "output_type": "stream",
     "text": [
      "1 - Guerreiro\n",
      "2 - Mago\n",
      "3 - Monge\n",
      "4 - Ninja\n",
      "O herói Raphael criado pelo jogador com 1 anos de idade foi criado. Sua Classe é Guerreiro. Que comecem os jogos.\n",
      "O Guerreiro atacou usando espada\n",
      "1 - Guerreiro\n",
      "2 - Mago\n",
      "3 - Monge\n",
      "4 - Ninja\n",
      "O herói Raphael criado pelo jogador com 1 anos de idade foi criado. Sua Classe é Mago. Que comecem os jogos.\n",
      "O Mago atacou usando magia\n",
      "1 - Guerreiro\n",
      "2 - Mago\n",
      "3 - Monge\n",
      "4 - Ninja\n",
      "O herói Raphael criado pelo jogador com 1 anos de idade foi criado. Sua Classe é Monge. Que comecem os jogos.\n",
      "O Monge atacou usando artes marciais\n",
      "1 - Guerreiro\n",
      "2 - Mago\n",
      "3 - Monge\n",
      "4 - Ninja\n",
      "O herói Raphael criado pelo jogador com 1 anos de idade foi criado. Sua Classe é Ninja. Que comecem os jogos.\n",
      "O Ninja atacou usando shuriken\n",
      "Fim do jogo. Até a próxima Raphael\n"
     ]
    }
   ],
   "source": [
    "class Heroi:\n",
    "    classes = [\"Guerreiro\", \"Mago\", \"Monge\", \"Ninja\"]\n",
    "    armas = [\"espada\", \"magia\", \"artes marciais\", \"shuriken\"]\n",
    "    def __init__(self):\n",
    "        self.nome = input('Digite o nome do seu heroi: ')\n",
    "        self.idade = input('Sua Idade: ')\n",
    "    def porrada(self):\n",
    "        print('1 - Guerreiro')\n",
    "        print('2 - Mago')\n",
    "        print('3 - Monge')\n",
    "        print('4 - Ninja')\n",
    "        self.tipo = int(input('Escolha sua classe: ')) - 1\n",
    "        print(f'O herói {self.nome} criado pelo jogador com {self.idade} anos de idade foi criado. Sua Classe é {Heroi.classes[self.tipo]}. Que comecem os jogos.')\n",
    "    def atacar(self):\n",
    "        print(f'O {Heroi.classes[self.tipo]} atacou usando {Heroi.armas[self.tipo]}')\n",
    "    def final(self):\n",
    "        return input('Deseja jogar mais uma partida? S/N ').upper() == \"N\"\n",
    "heroi = Heroi()\n",
    "while True:\n",
    "    heroi.porrada()\n",
    "    heroi.atacar()\n",
    "    if heroi.final():\n",
    "        print(f'Fim do jogo. Até a próxima {heroi.nome}')\n",
    "        break"
   ]
  }
 ],
 "metadata": {
  "kernelspec": {
   "display_name": "Python 3",
   "language": "python",
   "name": "python3"
  },
  "language_info": {
   "codemirror_mode": {
    "name": "ipython",
    "version": 3
   },
   "file_extension": ".py",
   "mimetype": "text/x-python",
   "name": "python",
   "nbconvert_exporter": "python",
   "pygments_lexer": "ipython3",
   "version": "3.11.5"
  },
  "orig_nbformat": 4
 },
 "nbformat": 4,
 "nbformat_minor": 2
}
